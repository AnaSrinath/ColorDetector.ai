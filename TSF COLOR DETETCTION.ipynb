{
 "cells": [
  {
   "cell_type": "markdown",
   "metadata": {},
   "source": [
    "#### SAADHANA SRINATH\n",
    "A very very basic color detector that works only for the 3 main colors"
   ]
  },
  {
   "cell_type": "code",
   "execution_count": 3,
   "metadata": {},
   "outputs": [],
   "source": [
    "import cv2\n",
    "import numpy as np\n",
    "\n",
    "## specifying threshold values for each color\n",
    "red_lower = np.array([0, 70, 50], np.uint8)\n",
    "red_upper = np.array([10, 255, 255], np.uint8)\n",
    "\n",
    "green_lower = np.array([25, 52, 72], np.uint8)\n",
    "green_upper = np.array([80, 255, 255], np.uint8)\n",
    "\n",
    "blue_lower = np.array([94, 80, 2], np.uint8)\n",
    "blue_upper = np.array([120, 255, 255], np.uint8)\n",
    "\n",
    "kernal = np.ones((5, 5), \"uint8\")\n",
    "\n",
    "def track(img,mask1,text_color,text):\n",
    "    ## smoothening\n",
    "    mask1 = cv2.dilate(mask1,kernal)\n",
    "    res = cv2.bitwise_and(img,img,mask = mask1)\n",
    "    \n",
    "    ## finding contours of the color\n",
    "    cnts,col = cv2.findContours(mask1,cv2.RETR_TREE,cv2.CHAIN_APPROX_SIMPLE)\n",
    "    \n",
    "    for a, cont in enumerate(cnts):\n",
    "        area = cv2.contourArea(cont)\n",
    "        if(area > 300):\n",
    "            ## framing the bounding rectangle\n",
    "            x, y, w, h = cv2.boundingRect(cont)\n",
    "            img = cv2.rectangle(img,(x,y),(x + w, y + h),text_color,2)  \n",
    "            ## printing text\n",
    "            cv2.putText(img,text,(x,y-10),cv2.FONT_HERSHEY_SIMPLEX,1,text_color,2)    \n",
    " \n",
    "   \n",
    "def color_det(img,hsvFrame):\n",
    "    ## defining masks for each of the colors\n",
    "    red_mask = cv2.inRange(hsvFrame, red_lower, red_upper)\n",
    "    green_mask = cv2.inRange(hsvFrame, green_lower, green_upper)\n",
    "    blue_mask = cv2.inRange(hsvFrame, blue_lower, blue_upper)\n",
    "    \n",
    "    # detecting and recognising the colored elements\n",
    "    track(img,red_mask,(0, 0, 255),\"Red\")\n",
    "    track(img,blue_mask,(255,0,0),\"Blue\")\n",
    "    track(img,green_mask,(0,255,0),\"Green\")\n",
    "\n",
    "## loading the image\n",
    "img = cv2.imread(r'C:\\Users\\hp\\Pictures\\Screenshots\\color.png')\n",
    "\n",
    "## converting to hsv color space\n",
    "hsvFrame = cv2.cvtColor(img, cv2.COLOR_BGR2HSV)\n",
    "## call function to detect colors\n",
    "color_det(img,hsvFrame)\n",
    "\n",
    "## display the image\n",
    "cv2.imshow('image',img)\n",
    "\n",
    "cv2.waitKey(0)\n",
    "cv2.destroyAllWindows()\n"
   ]
  },
  {
   "cell_type": "code",
   "execution_count": null,
   "metadata": {},
   "outputs": [],
   "source": []
  }
 ],
 "metadata": {
  "kernelspec": {
   "display_name": "Python 3",
   "language": "python",
   "name": "python3"
  },
  "language_info": {
   "codemirror_mode": {
    "name": "ipython",
    "version": 3
   },
   "file_extension": ".py",
   "mimetype": "text/x-python",
   "name": "python",
   "nbconvert_exporter": "python",
   "pygments_lexer": "ipython3",
   "version": "3.7.6"
  }
 },
 "nbformat": 4,
 "nbformat_minor": 4
}
